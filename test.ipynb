{
 "cells": [
  {
   "cell_type": "code",
   "execution_count": 1,
   "metadata": {},
   "outputs": [],
   "source": [
    "import os\n",
    "import numpy as np\n",
    "import mediapipe as mp\n",
    "from tensorflow.keras.models import load_model\n",
    "from cvzone.HandTrackingModule import HandDetector\n",
    "import sys\n",
    "import math\n",
    "from deepmultilingualpunctuation import PunctuationModel  \n",
    "sys.path.append('words')\n",
    "from functions import *"
   ]
  },
  {
   "cell_type": "code",
   "execution_count": 2,
   "metadata": {},
   "outputs": [],
   "source": [
    "actions = np.array([\"idle\",\"my\", \"name is\",\"hello\", \"I\", \"live in\"])\n",
    "# letters = ['A', 'B', 'C', 'D', 'E', 'G', 'H', 'I', 'L', 'N', 'R', 'S', 'U', 'W', 'Y', 'Blank']\n",
    "letters = ['A', 'D', 'N']\n",
    "# letters = ['A', 'B', 'G', 'H', 'Y']\n",
    "# letters = ['A', 'E', 'R', 'S', 'W']\n",
    "#letters = [\"A\", \"H\", \"I\", \"N\", \"R\"]\n",
    "# letters = [\"E\",\"L\",\"R\",\"U\"]"
   ]
  },
  {
   "cell_type": "code",
   "execution_count": 3,
   "metadata": {},
   "outputs": [],
   "source": [
    "model_LSTM = load_model('Models/model-words-2')"
   ]
  },
  {
   "cell_type": "code",
   "execution_count": 4,
   "metadata": {},
   "outputs": [
    {
     "name": "stdout",
     "output_type": "stream",
     "text": [
      "WARNING:tensorflow:SavedModel saved prior to TF 2.5 detected when loading Keras model. Please ensure that you are saving the model with model.save() or tf.keras.models.save_model(), *NOT* tf.saved_model.save(). To confirm, there should be a file named \"keras_metadata.pb\" in the SavedModel directory.\n",
      "WARNING:tensorflow:No training configuration found in save file, so the model was *not* compiled. Compile it manually.\n"
     ]
    }
   ],
   "source": [
    "model_CNN = load_model('Models/model-4')"
   ]
  },
  {
   "cell_type": "code",
   "execution_count": 6,
   "metadata": {},
   "outputs": [
    {
     "name": "stderr",
     "output_type": "stream",
     "text": [
      "C:\\Users\\eswar\\eswar7781\\coding\\project_test\\env\\Lib\\site-packages\\transformers\\pipelines\\token_classification.py:168: UserWarning: `grouped_entities` is deprecated and will be removed in version v5.0.0, defaulted to `aggregation_strategy=\"AggregationStrategy.NONE\"` instead.\n",
      "  warnings.warn(\n"
     ]
    }
   ],
   "source": [
    "model_GRAMMER = PunctuationModel()"
   ]
  },
  {
   "cell_type": "code",
   "execution_count": 5,
   "metadata": {},
   "outputs": [],
   "source": [
    "colors = [(255,255,255)] * len(actions)\n",
    "def prob_viz(res, actions, input_frame, colors):\n",
    "    output_frame = input_frame.copy()\n",
    "    for num, prob in enumerate(res):\n",
    "        cv2.rectangle(output_frame, (0,60+num*40), (int(prob*100), 90+num*40), colors[num], -1)\n",
    "        cv2.putText(output_frame, actions[num], (0, 85+num*40), cv2.FONT_HERSHEY_PLAIN, 1, (255,0,0), 1, cv2.LINE_AA)\n",
    "        \n",
    "    return output_frame"
   ]
  },
  {
   "cell_type": "code",
   "execution_count": 6,
   "metadata": {},
   "outputs": [],
   "source": [
    "def extract_features2(image):\n",
    "    feature = np.array(image)\n",
    "    feature = feature.reshape(1,224,224,3)\n",
    "    return feature/255.0"
   ]
  },
  {
   "cell_type": "code",
   "execution_count": null,
   "metadata": {},
   "outputs": [],
   "source": [
    "# 1. New detection variables\n",
    "sequence = []\n",
    "actualSentence=[]\n",
    "idle_list = [\"idle\" for _ in range(3)]\n",
    "sentence = []\n",
    "predictions = []\n",
    "count = 0\n",
    "threshold = 0.45\n",
    "i = 0\n",
    "flag = 0\n",
    "offset = 20\n",
    "imgSize = 224\n",
    "counter = 0\n",
    "\n",
    "cap = cv2.VideoCapture(0)\n",
    "detector = HandDetector(maxHands=1)\n",
    "\n",
    "# Set mediapipe model \n",
    "with mp_holistic.Holistic(min_detection_confidence=0.75, min_tracking_confidence=0.75) as holistic:\n",
    "    while cap.isOpened():\n",
    "        if(len(sequence) == 0):\n",
    "            count += 1\n",
    "        \n",
    "        # Read feed\n",
    "        ret, img = cap.read()\n",
    "\n",
    "        # Make detections\n",
    "        if(flag == 0):\n",
    "            image, results = mediapipe_detection(img, holistic)\n",
    "            print(results)\n",
    "            \n",
    "            # Draw landmarks\n",
    "            draw_styled_landmarks(image, results)\n",
    "            \n",
    "            # 2. Prediction logic\n",
    "            if count == 5 or (len(sequence) > 0) :\n",
    "                keypoints = extract_specific_keypoints(results)\n",
    "                if(len(sequence) in [1,6,11]):\n",
    "                    imp = important_features(image)\n",
    "                    keypoints = np.concatenate([keypoints, imp])\n",
    "                else:\n",
    "                    keypoints = np.concatenate([keypoints, np.array([0, 0, 0, 0])])\n",
    "                sequence.append(keypoints)\n",
    "                count = 0        \n",
    "            \n",
    "            if len(sequence) == 11:\n",
    "                res = model_LSTM.predict(np.expand_dims(sequence, axis=0))[0]\n",
    "                print(res)\n",
    "                print(actions[np.argmax(res)])\n",
    "                predictions.append(np.argmax(res))\n",
    "                sequence = []\n",
    "                \n",
    "                if res[np.argmax(res)] > threshold:\n",
    "                    actualSentence.append(actions[np.argmax(res)])  \n",
    "                    \n",
    "                    if len(sentence) > 0:  # Check if sentence is not empty\n",
    "                        if len(sentence) >= 3:  # Check if sentence length is 3 or more\n",
    "                            if actions[np.argmax(res)] != sentence[-1] and actions[np.argmax(res)] != sentence[-2] and actions[np.argmax(res)] != sentence[-3] and actions[np.argmax(res)] != \"idle\":\n",
    "                                sentence.append(actions[np.argmax(res)])  # Append to sentence if conditions met\n",
    "                        elif len(sentence) >= 2:  # Check if sentence length is 2 or more\n",
    "                            if actions[np.argmax(res)] != sentence[-1] and actions[np.argmax(res)] != sentence[-2] and actions[np.argmax(res)] != \"idle\":\n",
    "                                sentence.append(actions[np.argmax(res)])  # Append to sentence if conditions met\n",
    "                        else:  # If sentence length is less than 2\n",
    "                            if actions[np.argmax(res)] != sentence[-1] and actions[np.argmax(res)] != \"idle\":  \n",
    "                                sentence.append(actions[np.argmax(res)])  # Append to sentence if conditions met\n",
    "                    else:  # If sentence is empty\n",
    "                        if actions[np.argmax(res)] != \"idle\":\n",
    "                            sentence.append(actions[np.argmax(res)])  # Append to sentence if conditions met\n",
    "\n",
    "\n",
    "        if(flag==1):\n",
    "            imgOutput = img.copy()\n",
    "            hands, image = detector.findHands(img)\n",
    "            if hands:\n",
    "                hand = hands[0]\n",
    "                x, y, w, h = hand['bbox']\n",
    "                imgWhite = np.ones((imgSize, imgSize, 3), np.uint8) * 255\n",
    "                imgCrop = image[y - offset:y + h + offset, x - offset:x + w + offset]\n",
    "                imgCropShape = imgCrop.shape\n",
    "                aspectRatio = h / w\n",
    "                if aspectRatio > 1:\n",
    "                    try:\n",
    "                        k = imgSize / h\n",
    "                        wCal = math.ceil(k * w)\n",
    "                        imgResize = cv2.resize(imgCrop, (wCal, imgSize))\n",
    "                        imgResizeShape = imgResize.shape\n",
    "                        wGap = math.ceil((imgSize - wCal) / 2)\n",
    "                        imgWhite[:, wGap:wCal + wGap] = imgResize\n",
    "                        imgWhite = extract_features2(imgWhite)\n",
    "                        # cv2.imshow(\"image\",imgWhite)\n",
    "                        if(counter%20==0 and counter != 0):\n",
    "                            counter = 1\n",
    "                            pred = model_CNN.predict(imgWhite)\n",
    "                            prediction_label = letters[pred.argmax()]\n",
    "                            print(pred[0][np.argmax(pred)])\n",
    "                            print(letters[pred.argmax()])\n",
    "                            if(prediction_label != \"blank\"): \n",
    "                                if(len(sentence)<1 or sentence[-1] != prediction_label):\n",
    "                                    print(pred)\n",
    "                                    print(pred.argmax())\n",
    "                                    print(pred[0][np.argmax(pred)])\n",
    "                                    print(letters[pred.argmax()])\n",
    "                                    if((pred[0][np.argmax(pred)]) > 0.7):\n",
    "                                        sentence.append(prediction_label)\n",
    "                        counter+=1\n",
    "                    except Exception as e:\n",
    "                        print(e)\n",
    "                        continue\n",
    "                else:\n",
    "                    try:\n",
    "                        k = imgSize / w\n",
    "                        hCal = math.ceil(k * h)\n",
    "                        imgResize = cv2.resize(imgCrop, (imgSize, hCal))\n",
    "                        imgResizeShape = imgResize.shape\n",
    "                        hGap = math.ceil((imgSize - hCal) / 2)\n",
    "                        imgWhite[hGap:hCal + hGap, :] = imgResize\n",
    "                        imgWhite = extract_features2(imgWhite)\n",
    "                        if(counter%20==0 and counter != 0):\n",
    "                            counter = 1\n",
    "                            pred = model_CNN.predict(imgWhite)\n",
    "                            prediction_label = letters[pred.argmax()]\n",
    "                            print(pred[0][np.argmax(pred)])\n",
    "                            print(letters[pred.argmax()])\n",
    "                            if(prediction_label != \"blank\"): \n",
    "                                if(len(sentence)<1 or sentence[-1] != prediction_label):\n",
    "                                    print(pred)\n",
    "                                    print(pred.argmax())\n",
    "                                    print(pred[0][np.argmax(pred)])\n",
    "                                    print(letters[pred.argmax()])\n",
    "                                    if((pred[0][np.argmax(pred)]) > 0.7):\n",
    "                                        sentence.append(prediction_label)\n",
    "                                        counter = 0\n",
    "                        counter+=1\n",
    "                    except Exception as e:\n",
    "                        print(e)\n",
    "                        continue\n",
    "\n",
    "            \n",
    "        if(len(actualSentence)>=3):\n",
    "            actualSentence = actualSentence[-3:] \n",
    "        \n",
    "        if(actualSentence == idle_list):\n",
    "            flag = 1\n",
    "\n",
    "        cv2.putText(image,\" \".join(sentence), (3,30), \n",
    "                    cv2.FONT_HERSHEY_SIMPLEX, 1, (255, 0, 0), 2, cv2.LINE_AA)\n",
    "        \n",
    "        cv2.putText(image, \"Mode: words\" if flag==0 else \"Mode: letters\", (image.shape[1]-640,image.shape[0]-10), \n",
    "            cv2.FONT_HERSHEY_PLAIN, 2, (0, 0, 255), 1, cv2.LINE_AA)\n",
    "        \n",
    "        cv2.putText(image, str(counter) if flag==1 else str(len(sequence)), (image.shape[1]-50,image.shape[0]-10), \n",
    "            cv2.FONT_HERSHEY_PLAIN, 2, (0, 0, 255), 1, cv2.LINE_AA)\n",
    "\n",
    "\n",
    "        \n",
    "        # Show to screen\n",
    "        cv2.imshow('OpenCV Feed', image)\n",
    "        if cv2.waitKey(10) & 0xFF == ord('p'):\n",
    "            print(model_GRAMMER.restore_punctuation(f'{\" \".join(sentence)}'))\n",
    "\n",
    "        \n",
    "        # Break gracefully\n",
    "        if cv2.waitKey(10) & 0xFF == ord('q') :\n",
    "            break\n",
    "        \n",
    "    cap.release()\n",
    "    cv2.destroyAllWindows()"
   ]
  },
  {
   "cell_type": "code",
   "execution_count": 32,
   "metadata": {},
   "outputs": [],
   "source": [
    "cap.release()\n",
    "cv2.destroyAllWindows()\n"
   ]
  },
  {
   "cell_type": "code",
   "execution_count": null,
   "metadata": {},
   "outputs": [],
   "source": []
  },
  {
   "cell_type": "code",
   "execution_count": null,
   "metadata": {},
   "outputs": [],
   "source": []
  },
  {
   "cell_type": "code",
   "execution_count": null,
   "metadata": {},
   "outputs": [],
   "source": []
  }
 ],
 "metadata": {
  "kernelspec": {
   "display_name": "Python 3 (ipykernel)",
   "language": "python",
   "name": "python3"
  },
  "language_info": {
   "codemirror_mode": {
    "name": "ipython",
    "version": 3
   },
   "file_extension": ".py",
   "mimetype": "text/x-python",
   "name": "python",
   "nbconvert_exporter": "python",
   "pygments_lexer": "ipython3",
   "version": "3.11.9"
  }
 },
 "nbformat": 4,
 "nbformat_minor": 4
}
